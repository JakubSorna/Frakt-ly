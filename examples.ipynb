{
 "cells": [
  {
   "attachments": {},
   "cell_type": "markdown",
   "metadata": {},
   "source": [
    "\n",
    "# Zadání: Vizualizace fraktálů\n",
    "\n",
    "## Textový popis\n",
    "\n",
    "Tento projekt se zaměřuje na vizualizaci fraktálů. Cílem je\n",
    "implementovat algoritmy pro efektivní generování známých fraktálů, jako\n",
    "jsou Mandelbrotova a Juliova množina (pro\n",
    "$f\\left(z\\right)=z^{2}+c,c\\in\\mathbb{C}$), a vytvořit interaktivní\n",
    "vizualizace (viz [Matplotlib\n",
    "widgets](https://matplotlib.org/stable/gallery/widgets/index.html))\n",
    "těchto fraktálů pomocí knihovny Matplotlib.\n",
    "\n",
    "Výstupem projektu budou interaktivní vizualizace fraktálů, které\n",
    "umožňují uživateli prozkoumávat různé části fraktálu a přizpůsobovat\n",
    "parametry pro generování fraktálů ($c\\in\\mathbb{C}$ pro Juliovu\n",
    "množinu).\n",
    "\n",
    "## Funkcionality\n",
    "\n",
    "-   Implementovat algoritmus pro efektivní generování Mandelbrotovy\n",
    "    množiny pomocí knihovny NumPy\n",
    "-   Implementovat algoritmus pro efektivní generování Juliovy množiny\n",
    "    (pro $f\\left(z\\right)=z^{2}+c,c\\in\\mathbb{C}$) pomocí knihovny NumPy\n",
    "-   Vytvořit funkci pro vizualizaci fraktálů pomocí knihovny Matplotlib,\n",
    "    která zobrazuje fraktály pomocí barevného mapování podle iterací\n",
    "    potřebných k dosažení určitého prahu\n",
    "-   Implementovat interaktivní prvky vizualizace, které umožňují\n",
    "    uživateli:\n",
    "    -   přiblížit nebo oddálit fraktál\n",
    "    -   měnit barevné schéma vykreslení počtu iterací do divergence\n",
    "    -   přizpůsobovat parametry pro generování fraktálů (např. počet\n",
    "        iterací, $c$)"
   ]
  },
  {
   "attachments": {},
   "cell_type": "markdown",
   "metadata": {},
   "source": [
    "# Řešení:\n",
    "\n",
    "Vytvořil jsem třídu Fractal, která pomocí metod .mand_fract(), nebo .jul_fract(), dokáže vykreslit fraktál Mandelbrotovi, nebo Juliovy množiny.\n"
   ]
  },
  {
   "cell_type": "code",
   "execution_count": null,
   "metadata": {},
   "outputs": [],
   "source": [
    "from fractals import Fractal\n",
    "my_frac = Fractal(1000)"
   ]
  },
  {
   "cell_type": "code",
   "execution_count": null,
   "metadata": {},
   "outputs": [],
   "source": [
    "my_frac.mand_fractal()"
   ]
  },
  {
   "cell_type": "code",
   "execution_count": 37,
   "metadata": {},
   "outputs": [],
   "source": [
    "my_frac.jul_fractal()"
   ]
  }
 ],
 "metadata": {
  "kernelspec": {
   "display_name": "base",
   "language": "python",
   "name": "python3"
  },
  "language_info": {
   "codemirror_mode": {
    "name": "ipython",
    "version": 3
   },
   "file_extension": ".py",
   "mimetype": "text/x-python",
   "name": "python",
   "nbconvert_exporter": "python",
   "pygments_lexer": "ipython3",
   "version": "3.10.9"
  },
  "orig_nbformat": 4
 },
 "nbformat": 4,
 "nbformat_minor": 2
}
